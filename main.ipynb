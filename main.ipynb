{
 "cells": [
  {
   "cell_type": "code",
   "execution_count": null,
   "metadata": {},
   "outputs": [],
   "source": [
    "from openai import OpenAI\n",
    "from dotenv import load_dotenv\n",
    "\n",
    "# получим переменные из .env\n",
    "load_dotenv()\n",
    "\n",
    "client = OpenAI()"
   ]
  },
  {
   "cell_type": "markdown",
   "metadata": {},
   "source": [
    "# Создание Вакансий"
   ]
  },
  {
   "cell_type": "code",
   "execution_count": 40,
   "metadata": {},
   "outputs": [],
   "source": [
    "system_prompt = '''\n",
    "Ты директор IT компании которая разрабатывает сайты с применением языковых моделей LLM. \n",
    "Проанализируй структуру it-отдела разработки сайтов из 15 человек и добавь наименование 10 недостающих должностей: \n",
    "\n",
    "Разработчик Python, \n",
    "Аналитик данных, \n",
    "Инженер по машинному обучению, \n",
    "Web-разработчик, \n",
    "Системный администратор\n",
    "\n",
    "Для информации: Ruby мы не используем\n",
    "Наш стек: Python, Django, Angular, MogoDB, Docker\n",
    "'''\n",
    "\n",
    "completion = client.chat.completions.create(\n",
    "  model=\"gpt-4\",\n",
    "  messages=[\n",
    "    {\"role\": \"system\", \"content\": system_prompt},\n",
    "    {\"role\": \"user\", \"content\": \"Ответ дай без пояснений в виде перечня из 15 должностей:  Пример ответа: Разработчик Python,...\"}\n",
    "  ]\n",
    ")"
   ]
  },
  {
   "cell_type": "code",
   "execution_count": 41,
   "metadata": {},
   "outputs": [
    {
     "name": "stdout",
     "output_type": "stream",
     "text": [
      "Разработчик Python, \n",
      "Аналитик данных, \n",
      "Инженер по машинному обучению, \n",
      "Web-разработчик, \n",
      "Системный администратор,\n",
      "Базы данных MongoDB - Инженер,\n",
      "DevOps инженер,\n",
      "Full Stack Developer,\n",
      "Front-End разработчик (Angular),\n",
      "Back-End разработчик (Django),\n",
      "Data Scientist,\n",
      "UI/UX дизайнер,\n",
      "Технический писатель,\n",
      "Инженер по тестированию,\n",
      "DevSecOps инженер.\n"
     ]
    }
   ],
   "source": [
    "print(completion.choices[0].message.content)\n",
    "vacancies = list(completion.choices[0].message.content.split(\",\"))"
   ]
  },
  {
   "cell_type": "code",
   "execution_count": null,
   "metadata": {},
   "outputs": [],
   "source": [
    "file_name = 'vacancies.txt'\n",
    "\n",
    "with open(file_name, 'w', encoding='utf-8') as file:\n",
    "    for vacancy in vacancies:\n",
    "        file.write(vacancy)"
   ]
  },
  {
   "cell_type": "code",
   "execution_count": 57,
   "metadata": {},
   "outputs": [],
   "source": [
    "import json\n",
    "\n",
    "def print_pretty_json(json_obj):\n",
    "    \"\"\"\n",
    "    Красиво печатает JSON объект.\n",
    "    :param json_obj: JSON объект для печати (в Python обычно это словарь).\n",
    "    \"\"\"\n",
    "    pretty_json = json.dumps(json_obj, indent=4, ensure_ascii=False)\n",
    "    print(pretty_json)"
   ]
  },
  {
   "cell_type": "code",
   "execution_count": 75,
   "metadata": {},
   "outputs": [
    {
     "name": "stderr",
     "output_type": "stream",
     "text": [
      "Обработка вакансий: 100%|██████████| 15/15 [07:17<00:00, 29.14s/it]\n"
     ]
    }
   ],
   "source": [
    "system_prompt_vac = '''\n",
    "Ты HR специалист с IT бэкграундом в компании\n",
    "которая разрабатывает сайты с применением языковых моделей LLM. \n",
    "Наш стек для програмистов: Python, Django, Angular, MogoDB, Docker\n",
    "По представленному названию должности составь JSON объект:\n",
    "\n",
    "\"title\": \"Название вакансии.\" \n",
    "\"description\": \"Краткое описание вакансии.\",\n",
    "\"requirements\": [\"Требование к вакансии 1\", \"Требование к вакансии 2\",...]\n",
    "\n",
    "Все описания должны быть на русском языке.\n",
    "'''\n",
    "\n",
    "import json\n",
    "from tqdm import tqdm\n",
    "\n",
    "MAX_LENGTH = 2048 \n",
    "vacancies_data=[]\n",
    "\n",
    "for vac in tqdm(vacancies, desc=\"Обработка вакансий\"):\n",
    "    for attempt in range(3):  # Повторять до 3 раз\n",
    "        try:\n",
    "            completion = client.chat.completions.create(\n",
    "                model=\"gpt-4\",\n",
    "                messages=[\n",
    "                    {\"role\": \"system\", \"content\": system_prompt_vac},\n",
    "                    {\"role\": \"user\", \"content\": f\"Вакансия: {vac}\"}\n",
    "                ]\n",
    "            )\n",
    "            temp_data = json.loads(completion.choices[0].message.content)\n",
    "            \n",
    "            # Проверка длины текста\n",
    "            combined_text = temp_data[\"title\"] + temp_data[\"description\"] + ''.join(temp_data[\"requirements\"])\n",
    "            if len(combined_text) > MAX_LENGTH:\n",
    "                raise ValueError(f\"Длина текста превышает {MAX_LENGTH} символов\")\n",
    "            \n",
    "            vacancies_data.append(temp_data)\n",
    "            break  # Прервать цикл при успешном выполнении\n",
    "        except Exception as e:\n",
    "            print(f\"Произошла ошибка: {e}. Попытка {attempt + 1} из 3.\")\n",
    "            if attempt == 2:  # Если это последняя попытка\n",
    "                print(\"Не удалось обработать вакансию после 3 попыток.\")\n",
    "\n"
   ]
  },
  {
   "cell_type": "code",
   "execution_count": 76,
   "metadata": {},
   "outputs": [
    {
     "name": "stdout",
     "output_type": "stream",
     "text": [
      "{\n",
      "    \"title\": \"Разработчик Python\",\n",
      "    \"description\": \"Мы ищем опытного разработчика Python для работы над усовершенствованием и разработкой наших сайтов с применением языковых моделей LLM.\",\n",
      "    \"requirements\": [\n",
      "        \"Бакалавр, специалист или магистр в области информационных технологий, науки о данных или смежной области\",\n",
      "        \"Минимум 3 года опыта работы с Python\",\n",
      "        \"Опыт разработки на Django\",\n",
      "        \"Иметь знания/опыт работы с MongoDB\",\n",
      "        \"Владение Docker\",\n",
      "        \"Понимание и применение Agile методологии\",\n",
      "        \"Способность работать в команде, решать проблемы и осуществлять многозадачность\",\n",
      "        \"Хорошие навыки общения на русском языке\"\n",
      "    ]\n",
      "}\n",
      "{\n",
      "    \"title\": \"Аналитик данных\",\n",
      "    \"description\": \"Аналитик данных будет работать на пересечении IT и аналитики бизнеса, используя свои навыки обработки данных с целью преобразования больших объемов информации в управляемые и полезные входные данные для нашей команды по разработке модели LLM.\",\n",
      "    \"requirements\": [\n",
      "        \"Высшее техническое образование\",\n",
      "        \"Опыт работы с Python и SQL (MongoDB)\",\n",
      "        \"Навыки работы с большими данными и опыт их анализа\",\n",
      "        \"Умение работать с библиотеками для анализа данных (pandas, numpy)\",\n",
      "        \"Умение применять статистические методы анализа\",\n",
      "        \"Опыт работы с системами визуализации данных\",\n",
      "        \"Знание английского языка на уровне чтения технической документации\"\n",
      "    ]\n",
      "}\n"
     ]
    }
   ],
   "source": [
    "print_pretty_json(vacancies_data[0])\n",
    "print_pretty_json(vacancies_data[1])"
   ]
  },
  {
   "cell_type": "code",
   "execution_count": 77,
   "metadata": {},
   "outputs": [],
   "source": [
    "with open('vacancies.json', 'w', encoding='utf-8') as file:\n",
    "    json.dump(vacancies_data, file, ensure_ascii=False, indent=4)"
   ]
  },
  {
   "cell_type": "code",
   "execution_count": 109,
   "metadata": {},
   "outputs": [],
   "source": [
    "import sqlite3\n",
    "\n",
    "conn = sqlite3.connect('vacancies.db')\n",
    "cursor = conn.cursor()\n",
    "\n",
    "cursor.execute('''\n",
    "    CREATE TABLE IF NOT EXISTS vacancies (\n",
    "        id INTEGER PRIMARY KEY,\n",
    "        title TEXT,\n",
    "        description TEXT,\n",
    "        requirements TEXT\n",
    "    )\n",
    "''')\n",
    "\n",
    "cursor.execute('''\n",
    "    CREATE TABLE IF NOT EXISTS resumes (\n",
    "        id INTEGER PRIMARY KEY,\n",
    "        skills TEXT,\n",
    "        experience TEXT\n",
    "    )\n",
    "''')\n",
    "\n",
    "conn.commit()\n",
    "conn.close()"
   ]
  },
  {
   "cell_type": "code",
   "execution_count": 80,
   "metadata": {},
   "outputs": [],
   "source": [
    "conn = sqlite3.connect('vacancies.db')\n",
    "cursor = conn.cursor()\n",
    "\n",
    "for vacancy in vacancies_data:\n",
    "    cursor.execute('''\n",
    "        INSERT INTO vacancies (title, description, requirements)\n",
    "        VALUES (?, ?, ?)\n",
    "    ''', (vacancy[\"title\"], vacancy[\"description\"], \", \".join(vacancy[\"requirements\"])))\n",
    "\n",
    "conn.commit()\n",
    "conn.close()"
   ]
  },
  {
   "cell_type": "code",
   "execution_count": 81,
   "metadata": {},
   "outputs": [
    {
     "name": "stdout",
     "output_type": "stream",
     "text": [
      "ID: 1, Title: Разработчик Python, Description: Мы ищем опытного разработчика Python для работы над усовершенствованием и разработкой наших сайтов с применением языковых моделей LLM., Requirements: Бакалавр, специалист или магистр в области информационных технологий, науки о данных или смежной области, Минимум 3 года опыта работы с Python, Опыт разработки на Django, Иметь знания/опыт работы с MongoDB, Владение Docker, Понимание и применение Agile методологии, Способность работать в команде, решать проблемы и осуществлять многозадачность, Хорошие навыки общения на русском языке\n",
      "ID: 2, Title: Аналитик данных, Description: Аналитик данных будет работать на пересечении IT и аналитики бизнеса, используя свои навыки обработки данных с целью преобразования больших объемов информации в управляемые и полезные входные данные для нашей команды по разработке модели LLM., Requirements: Высшее техническое образование, Опыт работы с Python и SQL (MongoDB), Навыки работы с большими данными и опыт их анализа, Умение работать с библиотеками для анализа данных (pandas, numpy), Умение применять статистические методы анализа, Опыт работы с системами визуализации данных, Знание английского языка на уровне чтения технической документации\n",
      "ID: 3, Title: Инженер по машинному обучению, Description: Мы ищем талантливого специалиста, который будет работать над развитием и улучшением наших моделей машинного обучения, используемых в разработке языковых моделей LLM при создании сайтов., Requirements: Высшее образование в области IT или смежной сфере (математика, статистика), Опыт работы с языками программирования Python и его библиотеками для машинного обучения, Практический опыт работы с фреймворками по глубокому обучению (TensorFlow, Keras, PyTorch и др.), Знание принципов работы баз данных и опыт работы с MongoDB, Умение работать со сложными данные и интерпретировать их, Опыт работы с Docker, Базовые знания в области web-разработки (Django, Angular), Знание английского языка не ниже уровня Intermediate\n",
      "ID: 4, Title: Web-разработчик, Description: Мы ищем опытного Web-разработчика для создания и поддержки высоконагруженных веб-сайтов при помощи стека технологий Python, Django, Angular, MongoDB и Docker., Requirements: Отличное знание Python и Django, Понимание принципов работы Angular, Опыт работы с MongoDB, Опыт работы с Docker, Понимание принципов разработки программного обеспечения и жизненного цикла разработки, Умение работать в команде и самостоятельно, Высшее техническое образование, Глубокое понимание веб-технологий и стека протоколов TCP/IP, Опыт работы с языковыми моделями LLM будет преимуществом\n",
      "ID: 5, Title: Системный администратор, Description: Ответственный за обеспечение надежной и безопасной работы компьютерной системы компании., Requirements: Опыт работы от 2 лет в аналогичной должности, Глубокие знания операционных систем Linux/Windows, Опыт работы с Docker, Понимание принципов работы и настройки сетевого оборудования, Опыт администрирования серверов на базе Linux/Windows, Навыки работы с MongoDB, Умение работать со скриптовыми языками (Python)\n"
     ]
    }
   ],
   "source": [
    "import sqlite3\n",
    "\n",
    "conn = sqlite3.connect('vacancies.db')\n",
    "cursor = conn.cursor()\n",
    "\n",
    "cursor.execute('SELECT * FROM vacancies LIMIT 5')\n",
    "rows = cursor.fetchall()\n",
    "\n",
    "conn.close()\n",
    "\n",
    "# Вывод результатов\n",
    "for row in rows:\n",
    "    print(f\"ID: {row[0]}, Title: {row[1]}, Description: {row[2]}, Requirements: {row[3]}\")\n"
   ]
  },
  {
   "cell_type": "code",
   "execution_count": 114,
   "metadata": {},
   "outputs": [],
   "source": [
    "import pandas as pd\n",
    "\n",
    "conn = sqlite3.connect('vacancies.db')\n",
    "cursor = conn.cursor()\n",
    "\n",
    "cursor.execute('SELECT * FROM vacancies')\n",
    "rows = cursor.fetchall()\n",
    "\n",
    "conn.close()\n",
    "\n",
    "df_vacancies = pd.DataFrame(rows, columns=['id', 'title', 'description','requirements'])\n",
    "df_vacancies.to_excel('vacancies.xlsx', index=False)"
   ]
  },
  {
   "cell_type": "markdown",
   "metadata": {},
   "source": [
    "# Создание Резюме"
   ]
  },
  {
   "cell_type": "code",
   "execution_count": 93,
   "metadata": {},
   "outputs": [
    {
     "name": "stderr",
     "output_type": "stream",
     "text": [
      "Обработка резюме:  67%|██████▋   | 10/15 [06:19<03:11, 38.20s/it]"
     ]
    },
    {
     "name": "stdout",
     "output_type": "stream",
     "text": [
      "Произошла ошибка: Expecting value: line 1 column 1 (char 0). Попытка 1 из 3.\n"
     ]
    },
    {
     "name": "stderr",
     "output_type": "stream",
     "text": [
      "Обработка резюме:  73%|███████▎  | 11/15 [07:24<03:05, 46.44s/it]"
     ]
    },
    {
     "name": "stdout",
     "output_type": "stream",
     "text": [
      "Произошла ошибка: 'skills'. Попытка 1 из 3.\n",
      "Произошла ошибка: Expecting value: line 1 column 1 (char 0). Попытка 2 из 3.\n"
     ]
    },
    {
     "name": "stderr",
     "output_type": "stream",
     "text": [
      "Обработка резюме: 100%|██████████| 15/15 [10:24<00:00, 41.63s/it]\n"
     ]
    }
   ],
   "source": [
    "system_prompt_vac = '''\n",
    "Ты специалист по подготовке данных с IT бэкграундом в компании\n",
    "которая разрабатывает сайты с применением языковых моделей LLM. \n",
    "Наш стек для програмистов: Python, Django, Angular, MogoDB, Docker\n",
    "По представленному названию вакансии сгенерируй резюме предполагаемого кандидата в JSON объект,\n",
    "названия компаний придумывай опираясь на знание Российского it-рынка,\n",
    "обязательно указывай уровень английского языка:\n",
    "\n",
    "\"skills\": [\"Навык 1\", \"Навык 2\", ...], \n",
    "\"experience\": [\"Опыт работы в компании 1\", \"Опыт работы в компании 2\",...]\n",
    "\n",
    "Все описания должны быть на русском языке.\n",
    "'''\n",
    "\n",
    "import json\n",
    "from tqdm import tqdm\n",
    "\n",
    "MAX_LENGTH = 2048 \n",
    "resume_data=[]\n",
    "\n",
    "for vac in tqdm(vacancies, desc=\"Обработка резюме\"):\n",
    "    for attempt in range(3):  # Повторять до 3 раз\n",
    "        try:\n",
    "            completion = client.chat.completions.create(\n",
    "                model=\"gpt-4\",\n",
    "                messages=[\n",
    "                    {\"role\": \"system\", \"content\": system_prompt_vac},\n",
    "                    {\"role\": \"user\", \"content\": f\"Вакансия: {vac}\"}\n",
    "                ]\n",
    "            )\n",
    "            temp_data = json.loads(completion.choices[0].message.content)\n",
    "            \n",
    "            # Проверка длины текста\n",
    "            combined_text =  ''.join(temp_data[\"skills\"]) + ''.join(temp_data[\"experience\"])\n",
    "            if len(combined_text) > MAX_LENGTH:\n",
    "                raise ValueError(f\"Длина текста превышает {MAX_LENGTH} символов\")\n",
    "            \n",
    "            resume_data.append(temp_data)\n",
    "            break  # Прервать цикл при успешном выполнении\n",
    "        except Exception as e:\n",
    "            print(f\"Произошла ошибка: {e}. Попытка {attempt + 1} из 3.\")\n",
    "            if attempt == 2:  # Если это последняя попытка\n",
    "                print(\"Не удалось обработать резюме после 3 попыток.\")"
   ]
  },
  {
   "cell_type": "code",
   "execution_count": 95,
   "metadata": {},
   "outputs": [],
   "source": [
    "with open('resumes.json', 'w', encoding='utf-8') as file:\n",
    "    json.dump(resume_data, file, ensure_ascii=False, indent=4)"
   ]
  },
  {
   "cell_type": "code",
   "execution_count": 96,
   "metadata": {},
   "outputs": [
    {
     "name": "stdout",
     "output_type": "stream",
     "text": [
      "{\n",
      "    \"profile\": {\n",
      "        \"name\": \"Иван Иванов\",\n",
      "        \"email\": \"ivanov@gmail.com\",\n",
      "        \"phone\": \"+7(999)999-9999\"\n",
      "    },\n",
      "    \"professional_title\": \"Python разработчик\",\n",
      "    \"skills\": [\n",
      "        \"Знание Python и стандартной библиотеки Python\",\n",
      "        \"Опыт работы с Django\",\n",
      "        \"Владение SQL и опыт работы с СУБД\",\n",
      "        \"Понимание принципов разработки программного обеспечения\",\n",
      "        \"Использование систем контроля версий, например, Git\",\n",
      "        \"Английский язык повышенного уровня для чтения технической документации\",\n",
      "        \"Опыт работы в Docker\"\n",
      "    ],\n",
      "    \"experience\": [\n",
      "        \"OOО 'Техлогия', Python разработчик. Разработка и поддержка внутренних веб-сервисов компании на Django. Занимался оптимизацией работы с БД, рефакторингом кода.\",\n",
      "        \"ЗАО 'Дигиспейс', Junior Python разработчик. Вел разработку модулей на Python для управления системами автоматизации.\"\n",
      "    ],\n",
      "    \"languages\": [\n",
      "        \"Русский - родной\",\n",
      "        \"Английский - B2\"\n",
      "    ]\n",
      "}\n"
     ]
    }
   ],
   "source": [
    "print_pretty_json(resume_data[0])"
   ]
  },
  {
   "cell_type": "code",
   "execution_count": 110,
   "metadata": {},
   "outputs": [],
   "source": [
    "conn = sqlite3.connect('vacancies.db')\n",
    "cursor = conn.cursor()\n",
    "\n",
    "for resume in resume_data:\n",
    "    cursor.execute('''\n",
    "        INSERT INTO resumes (skills, experience)\n",
    "        VALUES (?, ?)\n",
    "    ''', (\"; \".join(resume[\"skills\"]), \"; \".join(resume[\"experience\"])))\n",
    "\n",
    "conn.commit()\n",
    "conn.close()"
   ]
  },
  {
   "cell_type": "code",
   "execution_count": 111,
   "metadata": {},
   "outputs": [
    {
     "name": "stdout",
     "output_type": "stream",
     "text": [
      "ID: 1, skills: Знание Python и стандартной библиотеки Python; Опыт работы с Django; Владение SQL и опыт работы с СУБД; Понимание принципов разработки программного обеспечения; Использование систем контроля версий, например, Git; Английский язык повышенного уровня для чтения технической документации; Опыт работы в Docker, experience: OOО 'Техлогия', Python разработчик. Разработка и поддержка внутренних веб-сервисов компании на Django. Занимался оптимизацией работы с БД, рефакторингом кода.; ЗАО 'Дигиспейс', Junior Python разработчик. Вел разработку модулей на Python для управления системами автоматизации.\n",
      "ID: 2, skills: Умение работать с большими данными; Знание Python, pandas, NumPy, MongoDB; Знание SQL, PostgreSQL; Умение строить модели машинного обучения; Визуализация данных с использованием matplotlib, seaborn; Уверенное владение Excel; Умение работать с BI системами, Tableau, experience: «1С-Битрикс»: анализ структуры данных, генерация отчетов, работа с большими данными; «Яндекс»: разработка и внедрение моделей для анализа пользовательского поведения, создание отчетов и визуализация данных; «Sberbank»: сбор, обработка и анализ данных, внедрение и поддержание системы BI, участие в разработке новых моделей машинного обучения\n",
      "ID: 3, skills: Python; Работа с библиотеками машинного обучения: Scikit-learn, Tensorflow, Keras; Знание принципов работы алгоритмов машинного обучения; Навыки анализа и обработки данных; Умение работать с SQL и NoSQL базами данных; Опыт работы с Docker; Опыт работы с Django и Angular; Git; Опыт работы в команде, умение слушать и выражать свои идеи, experience: ПАО 'Сбербанк', Инженер по машинному обучению, 2019-2022. Разработка моделей для анализа финансовых данных, оптимизация существующих моделей.; ООО 'Mail.Ru Group', Data Scientist, 2017-2019. Работа над таргетированием рекламы с использованием машинного обучения.\n",
      "ID: 4, skills: Python; Django; Веб-разработка; JavaScript; Angular; HTML/CSS; Базы данных; MongoDB; Юнит-тесты; Git; Docker, experience: Разработчик в компании Mail.ru: разрабатывал и поддерживал веб-приложения на Python и Django, работал с базой данных MongoDB.; Ведущий программист в Yandex: занимался разработкой и оптимизацией веб-сервисов, участвовал в разработке и поддержке фронтенд-кода на Angular, работал в Docker-среде.\n",
      "ID: 5, skills: Управление операционными системами (Windows, Linux); Администрирование серверов; Настройка сетевого оборудования; Работа с Docker; Знание Python; АВ тестирование; Установка и настройка ПО; Работа с базами данных (MongoDB), experience: Системный администратор в компании Yandex, 3 года. Обслуживание инфраструктуры компании, настройка серверов, разработка и внедрение резервного копирования.; Инженер-системотехник в компании Mail.ru, 2 года. Установка и настройка рабочих станций, обслуживание сетевого оборудования.\n"
     ]
    }
   ],
   "source": [
    "conn = sqlite3.connect('vacancies.db')\n",
    "cursor = conn.cursor()\n",
    "\n",
    "cursor.execute('SELECT * FROM resumes LIMIT 5')\n",
    "rows = cursor.fetchall()\n",
    "\n",
    "conn.close()\n",
    "\n",
    "# Вывод результатов\n",
    "for row in rows:\n",
    "    print(f\"ID: {row[0]}, skills: {row[1]}, experience: {row[2]}\")"
   ]
  },
  {
   "cell_type": "code",
   "execution_count": 113,
   "metadata": {},
   "outputs": [],
   "source": [
    "conn = sqlite3.connect('vacancies.db')\n",
    "cursor = conn.cursor()\n",
    "\n",
    "cursor.execute('SELECT * FROM resumes')\n",
    "rows = cursor.fetchall()\n",
    "\n",
    "conn.close()\n",
    "\n",
    "df_resumes = pd.DataFrame(rows, columns=['id', 'skills', 'experience'])\n",
    "df_resumes.to_excel('resumes.xlsx', index=False)"
   ]
  }
 ],
 "metadata": {
  "kernelspec": {
   "display_name": "env",
   "language": "python",
   "name": "python3"
  },
  "language_info": {
   "codemirror_mode": {
    "name": "ipython",
    "version": 3
   },
   "file_extension": ".py",
   "mimetype": "text/x-python",
   "name": "python",
   "nbconvert_exporter": "python",
   "pygments_lexer": "ipython3",
   "version": "3.11.6"
  }
 },
 "nbformat": 4,
 "nbformat_minor": 2
}
